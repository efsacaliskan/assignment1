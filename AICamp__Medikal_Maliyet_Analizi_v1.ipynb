{
  "nbformat": 4,
  "nbformat_minor": 0,
  "metadata": {
    "colab": {
      "name": "AICamp_ Medikal Maliyet Analizi_v1.ipynb",
      "provenance": [],
      "collapsed_sections": [],
      "toc_visible": true,
      "include_colab_link": true
    },
    "kernelspec": {
      "name": "python3",
      "display_name": "Python 3"
    },
    "language_info": {
      "name": "python"
    }
  },
  "cells": [
    {
      "cell_type": "markdown",
      "metadata": {
        "id": "view-in-github",
        "colab_type": "text"
      },
      "source": [
        "<a href=\"https://colab.research.google.com/github/efsacaliskan/assignment1/blob/main/AICamp__Medikal_Maliyet_Analizi_v1.ipynb\" target=\"_parent\"><img src=\"https://colab.research.google.com/assets/colab-badge.svg\" alt=\"Open In Colab\"/></a>"
      ]
    },
    {
      "cell_type": "markdown",
      "source": [
        "# Medikal Maliyet Analizi"
      ],
      "metadata": {
        "id": "cvDLYo1JZ27E"
      }
    },
    {
      "cell_type": "markdown",
      "source": [
        "## 1- Gerekli Kütüphanelerin Eklenmesi"
      ],
      "metadata": {
        "id": "fWrRgwEFGQGT"
      }
    },
    {
      "cell_type": "code",
      "source": [
        "#data manipulasyonu ve keşifçi veri analizi için kütüphaneler eklendi\n",
        "import numpy as np\n",
        "import pandas as pd\n",
        "#data görselleştirilmesi için kütüphaneler eklendi\n",
        "import seaborn as sns\n",
        "import matplotlib.pyplot as plt\n",
        "#veri ön işleme\n",
        "from sklearn.model_selection import train_test_split\n",
        "from sklearn.preprocessing import StandardScaler,MinMaxScaler\n",
        "#makine öğrenmesi modelleri uygulanması için modeller eklendi\n",
        "from sklearn.linear_model import LinearRegression\n",
        "from sklearn.linear_model import Lasso,Ridge,ElasticNet\n",
        "from sklearn.svm import SVR\n",
        "from sklearn.tree import DecisionTreeRegressor\n",
        "from sklearn.ensemble import RandomForestRegressor\n",
        "#model değerlendirme\n",
        "from sklearn.model_selection import cross_val_score,GridSearchCV"
      ],
      "metadata": {
        "id": "jEd93yaxGYuf"
      },
      "execution_count": null,
      "outputs": []
    },
    {
      "cell_type": "code",
      "source": [
        "#data dosyasının yüklenmesi\n",
        "data = pd.read_csv(\"insurance.csv\")"
      ],
      "metadata": {
        "id": "J1NtAWgtHt-v"
      },
      "execution_count": null,
      "outputs": []
    },
    {
      "cell_type": "markdown",
      "source": [
        "## 2- Keşifsel Veri Analizi"
      ],
      "metadata": {
        "id": "HFIvKnL6Hk21"
      }
    },
    {
      "cell_type": "code",
      "source": [
        "#verinin 5 satırını görüntüle\n",
        "data.head(5)"
      ],
      "metadata": {
        "colab": {
          "base_uri": "https://localhost:8080/",
          "height": 206
        },
        "id": "tZ8Uy6mxGewz",
        "outputId": "bfd33966-fda2-4b95-ea7a-5a2756762121"
      },
      "execution_count": null,
      "outputs": [
        {
          "output_type": "execute_result",
          "data": {
            "text/plain": [
              "   age     sex     bmi  children smoker     region      charges\n",
              "0   19  female  27.900         0    yes  southwest  16884.92400\n",
              "1   18    male  33.770         1     no  southeast   1725.55230\n",
              "2   28    male  33.000         3     no  southeast   4449.46200\n",
              "3   33    male  22.705         0     no  northwest  21984.47061\n",
              "4   32    male  28.880         0     no  northwest   3866.85520"
            ],
            "text/html": [
              "\n",
              "  <div id=\"df-d8ae0086-71c9-4c88-a2ab-01f0021d0a31\">\n",
              "    <div class=\"colab-df-container\">\n",
              "      <div>\n",
              "<style scoped>\n",
              "    .dataframe tbody tr th:only-of-type {\n",
              "        vertical-align: middle;\n",
              "    }\n",
              "\n",
              "    .dataframe tbody tr th {\n",
              "        vertical-align: top;\n",
              "    }\n",
              "\n",
              "    .dataframe thead th {\n",
              "        text-align: right;\n",
              "    }\n",
              "</style>\n",
              "<table border=\"1\" class=\"dataframe\">\n",
              "  <thead>\n",
              "    <tr style=\"text-align: right;\">\n",
              "      <th></th>\n",
              "      <th>age</th>\n",
              "      <th>sex</th>\n",
              "      <th>bmi</th>\n",
              "      <th>children</th>\n",
              "      <th>smoker</th>\n",
              "      <th>region</th>\n",
              "      <th>charges</th>\n",
              "    </tr>\n",
              "  </thead>\n",
              "  <tbody>\n",
              "    <tr>\n",
              "      <th>0</th>\n",
              "      <td>19</td>\n",
              "      <td>female</td>\n",
              "      <td>27.900</td>\n",
              "      <td>0</td>\n",
              "      <td>yes</td>\n",
              "      <td>southwest</td>\n",
              "      <td>16884.92400</td>\n",
              "    </tr>\n",
              "    <tr>\n",
              "      <th>1</th>\n",
              "      <td>18</td>\n",
              "      <td>male</td>\n",
              "      <td>33.770</td>\n",
              "      <td>1</td>\n",
              "      <td>no</td>\n",
              "      <td>southeast</td>\n",
              "      <td>1725.55230</td>\n",
              "    </tr>\n",
              "    <tr>\n",
              "      <th>2</th>\n",
              "      <td>28</td>\n",
              "      <td>male</td>\n",
              "      <td>33.000</td>\n",
              "      <td>3</td>\n",
              "      <td>no</td>\n",
              "      <td>southeast</td>\n",
              "      <td>4449.46200</td>\n",
              "    </tr>\n",
              "    <tr>\n",
              "      <th>3</th>\n",
              "      <td>33</td>\n",
              "      <td>male</td>\n",
              "      <td>22.705</td>\n",
              "      <td>0</td>\n",
              "      <td>no</td>\n",
              "      <td>northwest</td>\n",
              "      <td>21984.47061</td>\n",
              "    </tr>\n",
              "    <tr>\n",
              "      <th>4</th>\n",
              "      <td>32</td>\n",
              "      <td>male</td>\n",
              "      <td>28.880</td>\n",
              "      <td>0</td>\n",
              "      <td>no</td>\n",
              "      <td>northwest</td>\n",
              "      <td>3866.85520</td>\n",
              "    </tr>\n",
              "  </tbody>\n",
              "</table>\n",
              "</div>\n",
              "      <button class=\"colab-df-convert\" onclick=\"convertToInteractive('df-d8ae0086-71c9-4c88-a2ab-01f0021d0a31')\"\n",
              "              title=\"Convert this dataframe to an interactive table.\"\n",
              "              style=\"display:none;\">\n",
              "        \n",
              "  <svg xmlns=\"http://www.w3.org/2000/svg\" height=\"24px\"viewBox=\"0 0 24 24\"\n",
              "       width=\"24px\">\n",
              "    <path d=\"M0 0h24v24H0V0z\" fill=\"none\"/>\n",
              "    <path d=\"M18.56 5.44l.94 2.06.94-2.06 2.06-.94-2.06-.94-.94-2.06-.94 2.06-2.06.94zm-11 1L8.5 8.5l.94-2.06 2.06-.94-2.06-.94L8.5 2.5l-.94 2.06-2.06.94zm10 10l.94 2.06.94-2.06 2.06-.94-2.06-.94-.94-2.06-.94 2.06-2.06.94z\"/><path d=\"M17.41 7.96l-1.37-1.37c-.4-.4-.92-.59-1.43-.59-.52 0-1.04.2-1.43.59L10.3 9.45l-7.72 7.72c-.78.78-.78 2.05 0 2.83L4 21.41c.39.39.9.59 1.41.59.51 0 1.02-.2 1.41-.59l7.78-7.78 2.81-2.81c.8-.78.8-2.07 0-2.86zM5.41 20L4 18.59l7.72-7.72 1.47 1.35L5.41 20z\"/>\n",
              "  </svg>\n",
              "      </button>\n",
              "      \n",
              "  <style>\n",
              "    .colab-df-container {\n",
              "      display:flex;\n",
              "      flex-wrap:wrap;\n",
              "      gap: 12px;\n",
              "    }\n",
              "\n",
              "    .colab-df-convert {\n",
              "      background-color: #E8F0FE;\n",
              "      border: none;\n",
              "      border-radius: 50%;\n",
              "      cursor: pointer;\n",
              "      display: none;\n",
              "      fill: #1967D2;\n",
              "      height: 32px;\n",
              "      padding: 0 0 0 0;\n",
              "      width: 32px;\n",
              "    }\n",
              "\n",
              "    .colab-df-convert:hover {\n",
              "      background-color: #E2EBFA;\n",
              "      box-shadow: 0px 1px 2px rgba(60, 64, 67, 0.3), 0px 1px 3px 1px rgba(60, 64, 67, 0.15);\n",
              "      fill: #174EA6;\n",
              "    }\n",
              "\n",
              "    [theme=dark] .colab-df-convert {\n",
              "      background-color: #3B4455;\n",
              "      fill: #D2E3FC;\n",
              "    }\n",
              "\n",
              "    [theme=dark] .colab-df-convert:hover {\n",
              "      background-color: #434B5C;\n",
              "      box-shadow: 0px 1px 3px 1px rgba(0, 0, 0, 0.15);\n",
              "      filter: drop-shadow(0px 1px 2px rgba(0, 0, 0, 0.3));\n",
              "      fill: #FFFFFF;\n",
              "    }\n",
              "  </style>\n",
              "\n",
              "      <script>\n",
              "        const buttonEl =\n",
              "          document.querySelector('#df-d8ae0086-71c9-4c88-a2ab-01f0021d0a31 button.colab-df-convert');\n",
              "        buttonEl.style.display =\n",
              "          google.colab.kernel.accessAllowed ? 'block' : 'none';\n",
              "\n",
              "        async function convertToInteractive(key) {\n",
              "          const element = document.querySelector('#df-d8ae0086-71c9-4c88-a2ab-01f0021d0a31');\n",
              "          const dataTable =\n",
              "            await google.colab.kernel.invokeFunction('convertToInteractive',\n",
              "                                                     [key], {});\n",
              "          if (!dataTable) return;\n",
              "\n",
              "          const docLinkHtml = 'Like what you see? Visit the ' +\n",
              "            '<a target=\"_blank\" href=https://colab.research.google.com/notebooks/data_table.ipynb>data table notebook</a>'\n",
              "            + ' to learn more about interactive tables.';\n",
              "          element.innerHTML = '';\n",
              "          dataTable['output_type'] = 'display_data';\n",
              "          await google.colab.output.renderOutput(dataTable, element);\n",
              "          const docLink = document.createElement('div');\n",
              "          docLink.innerHTML = docLinkHtml;\n",
              "          element.appendChild(docLink);\n",
              "        }\n",
              "      </script>\n",
              "    </div>\n",
              "  </div>\n",
              "  "
            ]
          },
          "metadata": {},
          "execution_count": 35
        }
      ]
    },
    {
      "cell_type": "code",
      "source": [
        "print(f\"Insurance veri setinde {data.shape[0]} tane örnek data ve {data.shape[1]} özellik bulunuyor.\")"
      ],
      "metadata": {
        "colab": {
          "base_uri": "https://localhost:8080/"
        },
        "id": "IMjrsDRWIXD9",
        "outputId": "3a69a8c4-7b15-4dc0-eb0d-d16692cc8bfc"
      },
      "execution_count": null,
      "outputs": [
        {
          "output_type": "stream",
          "name": "stdout",
          "text": [
            "Insurance veri setinde 1338 tane örnek data ve 7 özellik bulunuyor.\n"
          ]
        }
      ]
    },
    {
      "cell_type": "code",
      "source": [
        "print(f\"Insurance veri setinde özellikler: {list(data.columns)}\")"
      ],
      "metadata": {
        "colab": {
          "base_uri": "https://localhost:8080/"
        },
        "id": "SxsN-g8hIob2",
        "outputId": "d7420757-a038-4bbf-9493-1a3c3d73a05a"
      },
      "execution_count": null,
      "outputs": [
        {
          "output_type": "stream",
          "name": "stdout",
          "text": [
            "Insurance veri setinde özellikler: ['age', 'sex', 'bmi', 'children', 'smoker', 'region', 'charges']\n"
          ]
        }
      ]
    },
    {
      "cell_type": "code",
      "source": [
        "#Eksik veri bulunmuyor\n",
        "data.info()"
      ],
      "metadata": {
        "colab": {
          "base_uri": "https://localhost:8080/"
        },
        "id": "eZlei6i1V36-",
        "outputId": "003a05b7-753c-40b6-a055-18d3ed7d3da5"
      },
      "execution_count": null,
      "outputs": [
        {
          "output_type": "stream",
          "name": "stdout",
          "text": [
            "<class 'pandas.core.frame.DataFrame'>\n",
            "RangeIndex: 1338 entries, 0 to 1337\n",
            "Data columns (total 7 columns):\n",
            " #   Column    Non-Null Count  Dtype  \n",
            "---  ------    --------------  -----  \n",
            " 0   age       1338 non-null   int64  \n",
            " 1   sex       1338 non-null   object \n",
            " 2   bmi       1338 non-null   float64\n",
            " 3   children  1338 non-null   int64  \n",
            " 4   smoker    1338 non-null   object \n",
            " 5   region    1338 non-null   object \n",
            " 6   charges   1338 non-null   float64\n",
            "dtypes: float64(2), int64(2), object(3)\n",
            "memory usage: 73.3+ KB\n"
          ]
        }
      ]
    },
    {
      "cell_type": "code",
      "source": [
        "data.isnull().sum()"
      ],
      "metadata": {
        "colab": {
          "base_uri": "https://localhost:8080/"
        },
        "id": "a-JrN9ABV8qA",
        "outputId": "0d0b704b-51fc-4922-b1f5-2cdbe38e1ae7"
      },
      "execution_count": null,
      "outputs": [
        {
          "output_type": "execute_result",
          "data": {
            "text/plain": [
              "age         0\n",
              "sex         0\n",
              "bmi         0\n",
              "children    0\n",
              "smoker      0\n",
              "region      0\n",
              "charges     0\n",
              "dtype: int64"
            ]
          },
          "metadata": {},
          "execution_count": 39
        }
      ]
    },
    {
      "cell_type": "code",
      "source": [
        "plt.figure(figsize=(20,10))\n",
        "for c in range(1,len(data.columns)):\n",
        "  plt.subplot(3,3,c)\n",
        "  sns.histplot(data.iloc[:,c])\n",
        "  plt.title(data.columns[c] +  \" dağılımı\")\n",
        "  plt.ylabel(\"Toplam Müşteri Sayısı\")\n",
        "plt.tight_layout()\n",
        "plt.show()\n"
      ],
      "metadata": {
        "colab": {
          "base_uri": "https://localhost:8080/",
          "height": 403
        },
        "id": "dN0onVANKUlG",
        "outputId": "531c003f-8c0e-41ca-8697-7e69e8e67c79"
      },
      "execution_count": null,
      "outputs": [
        {
          "output_type": "display_data",
          "data": {
            "text/plain": [
              "<Figure size 1440x720 with 6 Axes>"
            ],
            "image/png": "[encoded data removed]"
          },
          "metadata": {
            "needs_background": "light"
          }
        }
      ]
    },
    {
      "cell_type": "markdown",
      "source": [
        "Yukarıdaki histogram grafiklerini aşağıdaki gibi yorumlayabiliriz:\n",
        "\n",
        "1.   Liste öğesi\n",
        "2.   Liste öğesi\n",
        "\n"
      ],
      "metadata": {
        "id": "EGX409IyKB-S"
      }
    },
    {
      "cell_type": "code",
      "source": [
        "fig,ax = plt.subplots(1,4,figsize=(15,5),squeeze=False)\n",
        "sns.boxplot(data=data, y = data.age,ax=ax[0,0])\n",
        "sns.boxplot(data=data, y = data.charges,ax=ax[0,1])\n",
        "sns.boxplot(data=data, y = data.bmi,ax=ax[0,2])\n",
        "sns.boxplot(data=data, y = data.children,ax=ax[0,3])\n",
        "plt.tight_layout()\n",
        "plt.show()"
      ],
      "metadata": {
        "colab": {
          "base_uri": "https://localhost:8080/",
          "height": 369
        },
        "id": "_oxzbLw0YvPb",
        "outputId": "df0a1ddd-032c-42be-ed77-1035ad19fedc"
      },
      "execution_count": null,
      "outputs": [
        {
          "output_type": "display_data",
          "data": {
            "text/plain": [
              "<Figure size 1080x360 with 4 Axes>"
            ],
            "image/png": "[encoded data removed]"
          },
          "metadata": {
            "needs_background": "light"
          }
        }
      ]
    },
    {
      "cell_type": "markdown",
      "source": [
        "Yukarıdaki boxplot grafiklerini aşağıdaki gibi yorumlayabiliriz:\n",
        "\n",
        "Liste öğesi\n",
        "Liste öğesi"
      ],
      "metadata": {
        "id": "hSZReNqmZvOM"
      }
    },
    {
      "cell_type": "code",
      "source": [
        "plt.figure(figsize=(15,10))\n",
        "plt.title(\"Koralasyon HeatMap Grafiği\")\n",
        "sns.heatmap(data.corr(),annot=True,square=True)\n",
        "plt.show()"
      ],
      "metadata": {
        "colab": {
          "base_uri": "https://localhost:8080/",
          "height": 607
        },
        "id": "npcsqygwMfD4",
        "outputId": "87b06645-8481-4c23-9703-f5e4211bf2c3"
      },
      "execution_count": null,
      "outputs": [
        {
          "output_type": "display_data",
          "data": {
            "text/plain": [
              "<Figure size 1080x720 with 2 Axes>"
            ],
            "image/png": "[encoded data removed]"
          },
          "metadata": {
            "needs_background": "light"
          }
        }
      ]
    },
    {
      "cell_type": "markdown",
      "source": [
        "Yukarıdaki korelasyon heatmap grafiğinden özellikler arasındaki ilişkiler aşağıdaki gibi yorumlayabiliriz:\n",
        "\n",
        "Liste öğesi\n",
        "Liste öğesi"
      ],
      "metadata": {
        "id": "CrHd0lKfOM2t"
      }
    },
    {
      "cell_type": "code",
      "source": [
        "#region analizi\n",
        "data.groupby(\"region\").agg([\"sum\",\"mean\",\"count\"])"
      ],
      "metadata": {
        "colab": {
          "base_uri": "https://localhost:8080/",
          "height": 237
        },
        "id": "HUR8oNIIaeyP",
        "outputId": "53d7c4c8-03de-45f3-f141-4d882ace61f9"
      },
      "execution_count": null,
      "outputs": [
        {
          "output_type": "execute_result",
          "data": {
            "text/plain": [
              "             age                         bmi                  children  \\\n",
              "             sum       mean count        sum       mean count      sum   \n",
              "region                                                                   \n",
              "northeast  12723  39.268519   324   9452.215  29.173503   324      339   \n",
              "northwest  12739  39.196923   325   9489.930  29.199785   325      373   \n",
              "southeast  14174  38.939560   364  12141.580  33.355989   364      382   \n",
              "southwest  12823  39.455385   325   9943.900  30.596615   325      371   \n",
              "\n",
              "                                charges                      \n",
              "               mean count           sum          mean count  \n",
              "region                                                       \n",
              "northeast  1.046296   324  4.343669e+06  13406.384516   324  \n",
              "northwest  1.147692   325  4.035712e+06  12417.575374   325  \n",
              "southeast  1.049451   364  5.363690e+06  14735.411438   364  \n",
              "southwest  1.141538   325  4.012755e+06  12346.937377   325  "
            ],
            "text/html": [
              "\n",
              "  <div id=\"df-760c9d01-578a-4f63-aa31-3474acde4155\">\n",
              "    <div class=\"colab-df-container\">\n",
              "      <div>\n",
              "<style scoped>\n",
              "    .dataframe tbody tr th:only-of-type {\n",
              "        vertical-align: middle;\n",
              "    }\n",
              "\n",
              "    .dataframe tbody tr th {\n",
              "        vertical-align: top;\n",
              "    }\n",
              "\n",
              "    .dataframe thead tr th {\n",
              "        text-align: left;\n",
              "    }\n",
              "\n",
              "    .dataframe thead tr:last-of-type th {\n",
              "        text-align: right;\n",
              "    }\n",
              "</style>\n",
              "<table border=\"1\" class=\"dataframe\">\n",
              "  <thead>\n",
              "    <tr>\n",
              "      <th></th>\n",
              "      <th colspan=\"3\" halign=\"left\">age</th>\n",
              "      <th colspan=\"3\" halign=\"left\">bmi</th>\n",
              "      <th colspan=\"3\" halign=\"left\">children</th>\n",
              "      <th colspan=\"3\" halign=\"left\">charges</th>\n",
              "    </tr>\n",
              "    <tr>\n",
              "      <th></th>\n",
              "      <th>sum</th>\n",
              "      <th>mean</th>\n",
              "      <th>count</th>\n",
              "      <th>sum</th>\n",
              "      <th>mean</th>\n",
              "      <th>count</th>\n",
              "      <th>sum</th>\n",
              "      <th>mean</th>\n",
              "      <th>count</th>\n",
              "      <th>sum</th>\n",
              "      <th>mean</th>\n",
              "      <th>count</th>\n",
              "    </tr>\n",
              "    <tr>\n",
              "      <th>region</th>\n",
              "      <th></th>\n",
              "      <th></th>\n",
              "      <th></th>\n",
              "      <th></th>\n",
              "      <th></th>\n",
              "      <th></th>\n",
              "      <th></th>\n",
              "      <th></th>\n",
              "      <th></th>\n",
              "      <th></th>\n",
              "      <th></th>\n",
              "      <th></th>\n",
              "    </tr>\n",
              "  </thead>\n",
              "  <tbody>\n",
              "    <tr>\n",
              "      <th>northeast</th>\n",
              "      <td>12723</td>\n",
              "      <td>39.268519</td>\n",
              "      <td>324</td>\n",
              "      <td>9452.215</td>\n",
              "      <td>29.173503</td>\n",
              "      <td>324</td>\n",
              "      <td>339</td>\n",
              "      <td>1.046296</td>\n",
              "      <td>324</td>\n",
              "      <td>4.343669e+06</td>\n",
              "      <td>13406.384516</td>\n",
              "      <td>324</td>\n",
              "    </tr>\n",
              "    <tr>\n",
              "      <th>northwest</th>\n",
              "      <td>12739</td>\n",
              "      <td>39.196923</td>\n",
              "      <td>325</td>\n",
              "      <td>9489.930</td>\n",
              "      <td>29.199785</td>\n",
              "      <td>325</td>\n",
              "      <td>373</td>\n",
              "      <td>1.147692</td>\n",
              "      <td>325</td>\n",
              "      <td>4.035712e+06</td>\n",
              "      <td>12417.575374</td>\n",
              "      <td>325</td>\n",
              "    </tr>\n",
              "    <tr>\n",
              "      <th>southeast</th>\n",
              "      <td>14174</td>\n",
              "      <td>38.939560</td>\n",
              "      <td>364</td>\n",
              "      <td>12141.580</td>\n",
              "      <td>33.355989</td>\n",
              "      <td>364</td>\n",
              "      <td>382</td>\n",
              "      <td>1.049451</td>\n",
              "      <td>364</td>\n",
              "      <td>5.363690e+06</td>\n",
              "      <td>14735.411438</td>\n",
              "      <td>364</td>\n",
              "    </tr>\n",
              "    <tr>\n",
              "      <th>southwest</th>\n",
              "      <td>12823</td>\n",
              "      <td>39.455385</td>\n",
              "      <td>325</td>\n",
              "      <td>9943.900</td>\n",
              "      <td>30.596615</td>\n",
              "      <td>325</td>\n",
              "      <td>371</td>\n",
              "      <td>1.141538</td>\n",
              "      <td>325</td>\n",
              "      <td>4.012755e+06</td>\n",
              "      <td>12346.937377</td>\n",
              "      <td>325</td>\n",
              "    </tr>\n",
              "  </tbody>\n",
              "</table>\n",
              "</div>\n",
              "      <button class=\"colab-df-convert\" onclick=\"convertToInteractive('df-760c9d01-578a-4f63-aa31-3474acde4155')\"\n",
              "              title=\"Convert this dataframe to an interactive table.\"\n",
              "              style=\"display:none;\">\n",
              "        \n",
              "  <svg xmlns=\"http://www.w3.org/2000/svg\" height=\"24px\"viewBox=\"0 0 24 24\"\n",
              "       width=\"24px\">\n",
              "    <path d=\"M0 0h24v24H0V0z\" fill=\"none\"/>\n",
              "    <path d=\"M18.56 5.44l.94 2.06.94-2.06 2.06-.94-2.06-.94-.94-2.06-.94 2.06-2.06.94zm-11 1L8.5 8.5l.94-2.06 2.06-.94-2.06-.94L8.5 2.5l-.94 2.06-2.06.94zm10 10l.94 2.06.94-2.06 2.06-.94-2.06-.94-.94-2.06-.94 2.06-2.06.94z\"/><path d=\"M17.41 7.96l-1.37-1.37c-.4-.4-.92-.59-1.43-.59-.52 0-1.04.2-1.43.59L10.3 9.45l-7.72 7.72c-.78.78-.78 2.05 0 2.83L4 21.41c.39.39.9.59 1.41.59.51 0 1.02-.2 1.41-.59l7.78-7.78 2.81-2.81c.8-.78.8-2.07 0-2.86zM5.41 20L4 18.59l7.72-7.72 1.47 1.35L5.41 20z\"/>\n",
              "  </svg>\n",
              "      </button>\n",
              "      \n",
              "  <style>\n",
              "    .colab-df-container {\n",
              "      display:flex;\n",
              "      flex-wrap:wrap;\n",
              "      gap: 12px;\n",
              "    }\n",
              "\n",
              "    .colab-df-convert {\n",
              "      background-color: #E8F0FE;\n",
              "      border: none;\n",
              "      border-radius: 50%;\n",
              "      cursor: pointer;\n",
              "      display: none;\n",
              "      fill: #1967D2;\n",
              "      height: 32px;\n",
              "      padding: 0 0 0 0;\n",
              "      width: 32px;\n",
              "    }\n",
              "\n",
              "    .colab-df-convert:hover {\n",
              "      background-color: #E2EBFA;\n",
              "      box-shadow: 0px 1px 2px rgba(60, 64, 67, 0.3), 0px 1px 3px 1px rgba(60, 64, 67, 0.15);\n",
              "      fill: #174EA6;\n",
              "    }\n",
              "\n",
              "    [theme=dark] .colab-df-convert {\n",
              "      background-color: #3B4455;\n",
              "      fill: #D2E3FC;\n",
              "    }\n",
              "\n",
              "    [theme=dark] .colab-df-convert:hover {\n",
              "      background-color: #434B5C;\n",
              "      box-shadow: 0px 1px 3px 1px rgba(0, 0, 0, 0.15);\n",
              "      filter: drop-shadow(0px 1px 2px rgba(0, 0, 0, 0.3));\n",
              "      fill: #FFFFFF;\n",
              "    }\n",
              "  </style>\n",
              "\n",
              "      <script>\n",
              "        const buttonEl =\n",
              "          document.querySelector('#df-760c9d01-578a-4f63-aa31-3474acde4155 button.colab-df-convert');\n",
              "        buttonEl.style.display =\n",
              "          google.colab.kernel.accessAllowed ? 'block' : 'none';\n",
              "\n",
              "        async function convertToInteractive(key) {\n",
              "          const element = document.querySelector('#df-760c9d01-578a-4f63-aa31-3474acde4155');\n",
              "          const dataTable =\n",
              "            await google.colab.kernel.invokeFunction('convertToInteractive',\n",
              "                                                     [key], {});\n",
              "          if (!dataTable) return;\n",
              "\n",
              "          const docLinkHtml = 'Like what you see? Visit the ' +\n",
              "            '<a target=\"_blank\" href=https://colab.research.google.com/notebooks/data_table.ipynb>data table notebook</a>'\n",
              "            + ' to learn more about interactive tables.';\n",
              "          element.innerHTML = '';\n",
              "          dataTable['output_type'] = 'display_data';\n",
              "          await google.colab.output.renderOutput(dataTable, element);\n",
              "          const docLink = document.createElement('div');\n",
              "          docLink.innerHTML = docLinkHtml;\n",
              "          element.appendChild(docLink);\n",
              "        }\n",
              "      </script>\n",
              "    </div>\n",
              "  </div>\n",
              "  "
            ]
          },
          "metadata": {},
          "execution_count": 43
        }
      ]
    },
    {
      "cell_type": "code",
      "source": [
        "pd.crosstab(data.smoker,data.region).plot(kind=\"bar\",figsize=(10, 5),alpha=0.5)\n",
        "plt.title(\"Region-Smoker İlişkisi\")\n",
        "plt.show()"
      ],
      "metadata": {
        "colab": {
          "base_uri": "https://localhost:8080/",
          "height": 358
        },
        "id": "b0TT87duPTC4",
        "outputId": "d379ae52-ace0-4890-9c99-390a801799e0"
      },
      "execution_count": null,
      "outputs": [
        {
          "output_type": "display_data",
          "data": {
            "text/plain": [
              "<Figure size 720x360 with 1 Axes>"
            ],
            "image/png": "[encoded data removed]"
          },
          "metadata": {
            "needs_background": "light"
          }
        }
      ]
    },
    {
      "cell_type": "code",
      "source": [
        "plt.figure(figsize=(10,5))\n",
        "plt.title(\"Region-Smoker İlişkisi\")\n",
        "data[data.smoker==\"yes\"][\"region\"].value_counts().plot(kind=\"bar\",color=\"r\",alpha=0.5,label=\"Smoker\")\n",
        "data[data.smoker==\"no\"][\"region\"].value_counts().plot(kind=\"bar\",color=\"b\",alpha=0.2,label=\"Non-Smoker\")\n",
        "plt.legend()\n",
        "plt.show()"
      ],
      "metadata": {
        "colab": {
          "base_uri": "https://localhost:8080/",
          "height": 378
        },
        "id": "brI1RIz-SdPw",
        "outputId": "6eb49137-7324-42e9-abdb-6772f389bfef"
      },
      "execution_count": null,
      "outputs": [
        {
          "output_type": "display_data",
          "data": {
            "text/plain": [
              "<Figure size 720x360 with 1 Axes>"
            ],
            "image/png": "[encoded data removed]"
          },
          "metadata": {
            "needs_background": "light"
          }
        }
      ]
    },
    {
      "cell_type": "code",
      "source": [
        "pd.crosstab(data.smoker,pd.cut(data[\"bmi\"],5)).plot(kind=\"bar\",figsize=(10, 5),alpha=0.5)\n",
        "plt.title(\"BMI-Smoker İlişkisi\")\n",
        "plt.show()"
      ],
      "metadata": {
        "colab": {
          "base_uri": "https://localhost:8080/",
          "height": 358
        },
        "id": "cMR08socUeuD",
        "outputId": "76c29473-ed9c-42cd-8d29-f243766997aa"
      },
      "execution_count": null,
      "outputs": [
        {
          "output_type": "display_data",
          "data": {
            "text/plain": [
              "<Figure size 720x360 with 1 Axes>"
            ],
            "image/png": "[encoded data removed]"
          },
          "metadata": {
            "needs_background": "light"
          }
        }
      ]
    },
    {
      "cell_type": "code",
      "source": [
        "sns.boxplot(data=data, y = \"bmi\",x=\"smoker\")"
      ],
      "metadata": {
        "colab": {
          "base_uri": "https://localhost:8080/",
          "height": 296
        },
        "id": "huL7B6FpYbCY",
        "outputId": "a3fe73d2-c9fe-42a5-b711-5217f6802fe2"
      },
      "execution_count": null,
      "outputs": [
        {
          "output_type": "execute_result",
          "data": {
            "text/plain": [
              "<matplotlib.axes._subplots.AxesSubplot at 0x7f41f6bb3690>"
            ]
          },
          "metadata": {},
          "execution_count": 47
        },
        {
          "output_type": "display_data",
          "data": {
            "text/plain": [
              "<Figure size 432x288 with 1 Axes>"
            ],
            "image/png": "[encoded data removed]"
          },
          "metadata": {
            "needs_background": "light"
          }
        }
      ]
    },
    {
      "cell_type": "code",
      "source": [
        "plt.figure(figsize=(10,5))\n",
        "plt.title(\"Region-Smoker İlişkisi\")\n",
        "pd.cut(data[data.smoker==\"yes\"][\"bmi\"],5).value_counts().plot(kind=\"bar\",color=\"r\",alpha=0.5,label=\"Smoker\")\n",
        "pd.cut(data[data.smoker==\"no\"][\"bmi\"],5).value_counts().plot(kind=\"bar\",color=\"b\",alpha=0.2,label=\"Non-Smoker\")\n",
        "plt.legend()\n",
        "plt.show()"
      ],
      "metadata": {
        "colab": {
          "base_uri": "https://localhost:8080/",
          "height": 411
        },
        "id": "WuoRy8vpUps_",
        "outputId": "fecf9887-1bbb-4b51-ce54-a8ae40239927"
      },
      "execution_count": null,
      "outputs": [
        {
          "output_type": "display_data",
          "data": {
            "text/plain": [
              "<Figure size 720x360 with 1 Axes>"
            ],
            "image/png": "[encoded data removed]"
          },
          "metadata": {
            "needs_background": "light"
          }
        }
      ]
    },
    {
      "cell_type": "markdown",
      "source": [
        "## 3- Veri Ön İşleme"
      ],
      "metadata": {
        "id": "9rVfLt_ewesF"
      }
    },
    {
      "cell_type": "code",
      "source": [
        "#eksik veri olmadığını kontrol et\n",
        "data.isnull().sum()"
      ],
      "metadata": {
        "colab": {
          "base_uri": "https://localhost:8080/"
        },
        "id": "bO7yyiezw_uI",
        "outputId": "1134677b-a00c-4528-ac84-d3675cc7cd21"
      },
      "execution_count": null,
      "outputs": [
        {
          "output_type": "execute_result",
          "data": {
            "text/plain": [
              "age         0\n",
              "sex         0\n",
              "bmi         0\n",
              "children    0\n",
              "smoker      0\n",
              "region      0\n",
              "charges     0\n",
              "dtype: int64"
            ]
          },
          "metadata": {},
          "execution_count": 49
        }
      ]
    },
    {
      "cell_type": "code",
      "source": [
        "#mükerrer veri olmadığını kontrol et, 1 tekrarlı veri bulunuyor, tekrarlı veriyi sil\n",
        "data.duplicated().sum()"
      ],
      "metadata": {
        "colab": {
          "base_uri": "https://localhost:8080/"
        },
        "id": "sjASoI2iw_8_",
        "outputId": "54896d2a-69b4-474a-b091-686fe89b0ab4"
      },
      "execution_count": null,
      "outputs": [
        {
          "output_type": "execute_result",
          "data": {
            "text/plain": [
              "1"
            ]
          },
          "metadata": {},
          "execution_count": 50
        }
      ]
    },
    {
      "cell_type": "code",
      "source": [
        "#veri ön işleme işlemlerine başlamadan DataFrame'i kopyala, orjinal veri data DataFrame'inde kaalcaktır"
      ],
      "metadata": {
        "id": "_D3hGPlPxAAO"
      },
      "execution_count": null,
      "outputs": []
    },
    {
      "cell_type": "code",
      "source": [
        "df = data.copy()"
      ],
      "metadata": {
        "id": "a4-mCt8hxADV"
      },
      "execution_count": null,
      "outputs": []
    },
    {
      "cell_type": "code",
      "source": [
        "df.drop_duplicates(ignore_index=True,inplace=True)"
      ],
      "metadata": {
        "id": "NtlMe3ACxqth"
      },
      "execution_count": null,
      "outputs": []
    },
    {
      "cell_type": "code",
      "source": [
        "#mükerrer veri çıkarıldı\n",
        "df.duplicated().sum()"
      ],
      "metadata": {
        "colab": {
          "base_uri": "https://localhost:8080/"
        },
        "id": "lGGM2wY-xysf",
        "outputId": "39fade42-eeab-46cc-aa26-65b0b204b89e"
      },
      "execution_count": null,
      "outputs": [
        {
          "output_type": "execute_result",
          "data": {
            "text/plain": [
              "0"
            ]
          },
          "metadata": {},
          "execution_count": 53
        }
      ]
    },
    {
      "cell_type": "code",
      "source": [
        "#kategorik özellikleri getir\n",
        "df.select_dtypes(\"object\").columns"
      ],
      "metadata": {
        "colab": {
          "base_uri": "https://localhost:8080/"
        },
        "id": "8cZoY1Dlx5CL",
        "outputId": "a636063e-91fb-4172-b814-11846c3c688d"
      },
      "execution_count": null,
      "outputs": [
        {
          "output_type": "execute_result",
          "data": {
            "text/plain": [
              "Index(['sex', 'smoker', 'region'], dtype='object')"
            ]
          },
          "metadata": {},
          "execution_count": 54
        }
      ]
    },
    {
      "cell_type": "code",
      "source": [
        "#'sex', 'smoker', 'region' özellikler kategorik değişkenlerdir"
      ],
      "metadata": {
        "id": "H_iSs3IFyINt"
      },
      "execution_count": null,
      "outputs": []
    },
    {
      "cell_type": "code",
      "source": [
        "#2 değer bulunuyor;male-female\n",
        "df.sex.value_counts()"
      ],
      "metadata": {
        "colab": {
          "base_uri": "https://localhost:8080/"
        },
        "id": "l8x5TDH8yVbv",
        "outputId": "e465b712-b37b-481d-aed1-8454b7e0f222"
      },
      "execution_count": null,
      "outputs": [
        {
          "output_type": "execute_result",
          "data": {
            "text/plain": [
              "male      675\n",
              "female    662\n",
              "Name: sex, dtype: int64"
            ]
          },
          "metadata": {},
          "execution_count": 56
        }
      ]
    },
    {
      "cell_type": "code",
      "source": [
        "#2 değer bulunuyor yes-no\n",
        "df.smoker.value_counts()"
      ],
      "metadata": {
        "colab": {
          "base_uri": "https://localhost:8080/"
        },
        "id": "sx3_l-cCyZDZ",
        "outputId": "f3a34184-9cd4-45db-a712-b070153d7baa"
      },
      "execution_count": null,
      "outputs": [
        {
          "output_type": "execute_result",
          "data": {
            "text/plain": [
              "no     1063\n",
              "yes     274\n",
              "Name: smoker, dtype: int64"
            ]
          },
          "metadata": {},
          "execution_count": 57
        }
      ]
    },
    {
      "cell_type": "code",
      "source": [
        "#4 değer bulunuyor\n",
        "df.region.value_counts()"
      ],
      "metadata": {
        "colab": {
          "base_uri": "https://localhost:8080/"
        },
        "id": "r_SadX_GyZr6",
        "outputId": "a733256b-e977-46f8-d64e-87a8bcee8907"
      },
      "execution_count": null,
      "outputs": [
        {
          "output_type": "execute_result",
          "data": {
            "text/plain": [
              "southeast    364\n",
              "southwest    325\n",
              "northwest    324\n",
              "northeast    324\n",
              "Name: region, dtype: int64"
            ]
          },
          "metadata": {},
          "execution_count": 58
        }
      ]
    },
    {
      "cell_type": "code",
      "source": [
        "#pandas kütüphanesindeki get_dummies metoduyla one-hot encoding yönetimi kullanıldı"
      ],
      "metadata": {
        "id": "yBp7plzxysnT"
      },
      "execution_count": null,
      "outputs": []
    },
    {
      "cell_type": "code",
      "source": [
        "df = pd.get_dummies(df,drop_first=True)"
      ],
      "metadata": {
        "id": "0_90RT6BywJr"
      },
      "execution_count": null,
      "outputs": []
    },
    {
      "cell_type": "code",
      "source": [
        "df.head()"
      ],
      "metadata": {
        "colab": {
          "base_uri": "https://localhost:8080/",
          "height": 206
        },
        "id": "j8XG4l2mzCm-",
        "outputId": "876853ad-1224-4ce9-b712-4f0a107ea1a5"
      },
      "execution_count": null,
      "outputs": [
        {
          "output_type": "execute_result",
          "data": {
            "text/plain": [
              "   age     bmi  children      charges  sex_male  smoker_yes  region_northwest  \\\n",
              "0   19  27.900         0  16884.92400         0           1                 0   \n",
              "1   18  33.770         1   1725.55230         1           0                 0   \n",
              "2   28  33.000         3   4449.46200         1           0                 0   \n",
              "3   33  22.705         0  21984.47061         1           0                 1   \n",
              "4   32  28.880         0   3866.85520         1           0                 1   \n",
              "\n",
              "   region_southeast  region_southwest  \n",
              "0                 0                 1  \n",
              "1                 1                 0  \n",
              "2                 1                 0  \n",
              "3                 0                 0  \n",
              "4                 0                 0  "
            ],
            "text/html": [
              "\n",
              "  <div id=\"df-7817c644-1358-40f0-9263-7ede857ad43f\">\n",
              "    <div class=\"colab-df-container\">\n",
              "      <div>\n",
              "<style scoped>\n",
              "    .dataframe tbody tr th:only-of-type {\n",
              "        vertical-align: middle;\n",
              "    }\n",
              "\n",
              "    .dataframe tbody tr th {\n",
              "        vertical-align: top;\n",
              "    }\n",
              "\n",
              "    .dataframe thead th {\n",
              "        text-align: right;\n",
              "    }\n",
              "</style>\n",
              "<table border=\"1\" class=\"dataframe\">\n",
              "  <thead>\n",
              "    <tr style=\"text-align: right;\">\n",
              "      <th></th>\n",
              "      <th>age</th>\n",
              "      <th>bmi</th>\n",
              "      <th>children</th>\n",
              "      <th>charges</th>\n",
              "      <th>sex_male</th>\n",
              "      <th>smoker_yes</th>\n",
              "      <th>region_northwest</th>\n",
              "      <th>region_southeast</th>\n",
              "      <th>region_southwest</th>\n",
              "    </tr>\n",
              "  </thead>\n",
              "  <tbody>\n",
              "    <tr>\n",
              "      <th>0</th>\n",
              "      <td>19</td>\n",
              "      <td>27.900</td>\n",
              "      <td>0</td>\n",
              "      <td>16884.92400</td>\n",
              "      <td>0</td>\n",
              "      <td>1</td>\n",
              "      <td>0</td>\n",
              "      <td>0</td>\n",
              "      <td>1</td>\n",
              "    </tr>\n",
              "    <tr>\n",
              "      <th>1</th>\n",
              "      <td>18</td>\n",
              "      <td>33.770</td>\n",
              "      <td>1</td>\n",
              "      <td>1725.55230</td>\n",
              "      <td>1</td>\n",
              "      <td>0</td>\n",
              "      <td>0</td>\n",
              "      <td>1</td>\n",
              "      <td>0</td>\n",
              "    </tr>\n",
              "    <tr>\n",
              "      <th>2</th>\n",
              "      <td>28</td>\n",
              "      <td>33.000</td>\n",
              "      <td>3</td>\n",
              "      <td>4449.46200</td>\n",
              "      <td>1</td>\n",
              "      <td>0</td>\n",
              "      <td>0</td>\n",
              "      <td>1</td>\n",
              "      <td>0</td>\n",
              "    </tr>\n",
              "    <tr>\n",
              "      <th>3</th>\n",
              "      <td>33</td>\n",
              "      <td>22.705</td>\n",
              "      <td>0</td>\n",
              "      <td>21984.47061</td>\n",
              "      <td>1</td>\n",
              "      <td>0</td>\n",
              "      <td>1</td>\n",
              "      <td>0</td>\n",
              "      <td>0</td>\n",
              "    </tr>\n",
              "    <tr>\n",
              "      <th>4</th>\n",
              "      <td>32</td>\n",
              "      <td>28.880</td>\n",
              "      <td>0</td>\n",
              "      <td>3866.85520</td>\n",
              "      <td>1</td>\n",
              "      <td>0</td>\n",
              "      <td>1</td>\n",
              "      <td>0</td>\n",
              "      <td>0</td>\n",
              "    </tr>\n",
              "  </tbody>\n",
              "</table>\n",
              "</div>\n",
              "      <button class=\"colab-df-convert\" onclick=\"convertToInteractive('df-7817c644-1358-40f0-9263-7ede857ad43f')\"\n",
              "              title=\"Convert this dataframe to an interactive table.\"\n",
              "              style=\"display:none;\">\n",
              "        \n",
              "  <svg xmlns=\"http://www.w3.org/2000/svg\" height=\"24px\"viewBox=\"0 0 24 24\"\n",
              "       width=\"24px\">\n",
              "    <path d=\"M0 0h24v24H0V0z\" fill=\"none\"/>\n",
              "    <path d=\"M18.56 5.44l.94 2.06.94-2.06 2.06-.94-2.06-.94-.94-2.06-.94 2.06-2.06.94zm-11 1L8.5 8.5l.94-2.06 2.06-.94-2.06-.94L8.5 2.5l-.94 2.06-2.06.94zm10 10l.94 2.06.94-2.06 2.06-.94-2.06-.94-.94-2.06-.94 2.06-2.06.94z\"/><path d=\"M17.41 7.96l-1.37-1.37c-.4-.4-.92-.59-1.43-.59-.52 0-1.04.2-1.43.59L10.3 9.45l-7.72 7.72c-.78.78-.78 2.05 0 2.83L4 21.41c.39.39.9.59 1.41.59.51 0 1.02-.2 1.41-.59l7.78-7.78 2.81-2.81c.8-.78.8-2.07 0-2.86zM5.41 20L4 18.59l7.72-7.72 1.47 1.35L5.41 20z\"/>\n",
              "  </svg>\n",
              "      </button>\n",
              "      \n",
              "  <style>\n",
              "    .colab-df-container {\n",
              "      display:flex;\n",
              "      flex-wrap:wrap;\n",
              "      gap: 12px;\n",
              "    }\n",
              "\n",
              "    .colab-df-convert {\n",
              "      background-color: #E8F0FE;\n",
              "      border: none;\n",
              "      border-radius: 50%;\n",
              "      cursor: pointer;\n",
              "      display: none;\n",
              "      fill: #1967D2;\n",
              "      height: 32px;\n",
              "      padding: 0 0 0 0;\n",
              "      width: 32px;\n",
              "    }\n",
              "\n",
              "    .colab-df-convert:hover {\n",
              "      background-color: #E2EBFA;\n",
              "      box-shadow: 0px 1px 2px rgba(60, 64, 67, 0.3), 0px 1px 3px 1px rgba(60, 64, 67, 0.15);\n",
              "      fill: #174EA6;\n",
              "    }\n",
              "\n",
              "    [theme=dark] .colab-df-convert {\n",
              "      background-color: #3B4455;\n",
              "      fill: #D2E3FC;\n",
              "    }\n",
              "\n",
              "    [theme=dark] .colab-df-convert:hover {\n",
              "      background-color: #434B5C;\n",
              "      box-shadow: 0px 1px 3px 1px rgba(0, 0, 0, 0.15);\n",
              "      filter: drop-shadow(0px 1px 2px rgba(0, 0, 0, 0.3));\n",
              "      fill: #FFFFFF;\n",
              "    }\n",
              "  </style>\n",
              "\n",
              "      <script>\n",
              "        const buttonEl =\n",
              "          document.querySelector('#df-7817c644-1358-40f0-9263-7ede857ad43f button.colab-df-convert');\n",
              "        buttonEl.style.display =\n",
              "          google.colab.kernel.accessAllowed ? 'block' : 'none';\n",
              "\n",
              "        async function convertToInteractive(key) {\n",
              "          const element = document.querySelector('#df-7817c644-1358-40f0-9263-7ede857ad43f');\n",
              "          const dataTable =\n",
              "            await google.colab.kernel.invokeFunction('convertToInteractive',\n",
              "                                                     [key], {});\n",
              "          if (!dataTable) return;\n",
              "\n",
              "          const docLinkHtml = 'Like what you see? Visit the ' +\n",
              "            '<a target=\"_blank\" href=https://colab.research.google.com/notebooks/data_table.ipynb>data table notebook</a>'\n",
              "            + ' to learn more about interactive tables.';\n",
              "          element.innerHTML = '';\n",
              "          dataTable['output_type'] = 'display_data';\n",
              "          await google.colab.output.renderOutput(dataTable, element);\n",
              "          const docLink = document.createElement('div');\n",
              "          docLink.innerHTML = docLinkHtml;\n",
              "          element.appendChild(docLink);\n",
              "        }\n",
              "      </script>\n",
              "    </div>\n",
              "  </div>\n",
              "  "
            ]
          },
          "metadata": {},
          "execution_count": 60
        }
      ]
    },
    {
      "cell_type": "code",
      "source": [
        "#kategorik değişkenler nümerik değerlere dönüştürüldükten sonra tüm feature setiyle tekrar heatmap oluşturuldu\n",
        "plt.figure(figsize=(15,10))\n",
        "plt.title(\"Koralasyon HeatMap Grafiği\")\n",
        "sns.heatmap(df.corr(),annot=True,square=True)\n",
        "plt.show()"
      ],
      "metadata": {
        "colab": {
          "base_uri": "https://localhost:8080/",
          "height": 685
        },
        "id": "PipmnxpTzLuS",
        "outputId": "87456f5b-50dd-4c02-80a2-6278ff15dd8b"
      },
      "execution_count": null,
      "outputs": [
        {
          "output_type": "display_data",
          "data": {
            "text/plain": [
              "<Figure size 1080x720 with 2 Axes>"
            ],
            "image/png": "[encoded data removed]"
          },
          "metadata": {
            "needs_background": "light"
          }
        }
      ]
    },
    {
      "cell_type": "markdown",
      "source": [
        "Yukarıdaki grafikten açık bir şekilde smoker_yes-charges pozitif korelasyonu görünüyor. (0.79). "
      ],
      "metadata": {
        "id": "i-eHynKLzbrx"
      }
    },
    {
      "cell_type": "code",
      "source": [
        "X= df.drop([\"charges\"], axis=1)\n",
        "y = df.charges\n"
      ],
      "metadata": {
        "id": "DYsZZ7LQX1tj"
      },
      "execution_count": null,
      "outputs": []
    },
    {
      "cell_type": "code",
      "source": [
        "# veriyi train ve test olarak iki parçaya böl\n",
        "X_train, X_test, y_train, y_test = train_test_split(X,y,test_size=0.2,random_state=42)"
      ],
      "metadata": {
        "id": "e4_X6HR8Xs6d"
      },
      "execution_count": null,
      "outputs": []
    },
    {
      "cell_type": "code",
      "source": [
        "#verileri normalize et\n",
        "scaler = StandardScaler()\n",
        "X_train_scaled = scaler.fit_transform(X_train)\n",
        "X_test_scaled = scaler.transform(X_test)"
      ],
      "metadata": {
        "id": "sHFfTTxLYzMM"
      },
      "execution_count": null,
      "outputs": []
    },
    {
      "cell_type": "markdown",
      "source": [
        "## 4- Model Seçme"
      ],
      "metadata": {
        "id": "lFurM0SwYmVW"
      }
    },
    {
      "cell_type": "code",
      "source": [
        "#model cross-validation skorlarını tutmak için boş bir dictionary oluştur\n",
        "models = {\n",
        "    \"Linear Regression\":[],\n",
        "    \"Support Vector Regressor\":[],\n",
        "    \"Desicion Tree Regressor\":[],\n",
        "    \"Random Forest Regressor\" :[]\n",
        "}"
      ],
      "metadata": {
        "id": "L0xywNIFeX4G"
      },
      "execution_count": null,
      "outputs": []
    },
    {
      "cell_type": "code",
      "source": [
        "#Linear Regression modelini oluştur ve Cross Validation R2 ve Negative MSE skorlarını ekle\n",
        "lr = LinearRegression()\n",
        "lr_r2 = cross_val_score(lr,X_train_scaled,y_train,cv=10).mean()\n",
        "lr_neg_ms = cross_val_score(lr,X_train_scaled,y_train,cv=10,scoring='neg_mean_squared_error').mean()"
      ],
      "metadata": {
        "id": "1BR1sRkeZdyO"
      },
      "execution_count": null,
      "outputs": []
    },
    {
      "cell_type": "code",
      "source": [
        "models[\"Linear Regression\"]=[]\n",
        "models[\"Linear Regression\"].append(lr_r2)\n",
        "models[\"Linear Regression\"].append(lr_neg_ms)"
      ],
      "metadata": {
        "id": "IBAgGjQ8fQXI"
      },
      "execution_count": null,
      "outputs": []
    },
    {
      "cell_type": "code",
      "source": [
        "#Support Vector Regression modelini oluştur ve Cross Validation R2 ve Negative MSE skorlarını ekle\n",
        "svr = SVR()\n",
        "svr_r2 = cross_val_score(svr,X_train_scaled,y_train,cv=10).mean()\n",
        "svr_neg_mse = cross_val_score(svr,X_train_scaled,y_train,cv=10,scoring='neg_mean_squared_error').mean()"
      ],
      "metadata": {
        "id": "RHOzwZ7abxIb"
      },
      "execution_count": null,
      "outputs": []
    },
    {
      "cell_type": "code",
      "source": [
        "models[\"Support Vector Regressor\"]=[]\n",
        "models[\"Support Vector Regressor\"].append(svr_r2)\n",
        "models[\"Support Vector Regressor\"].append(svr_neg_mse)"
      ],
      "metadata": {
        "id": "bzG94p2cfghh"
      },
      "execution_count": null,
      "outputs": []
    },
    {
      "cell_type": "code",
      "source": [
        "#Desicion Tree Regression modelini oluştur ve Cross Validation R2 ve Negative MSE skorlarını ekle\n",
        "dtr = DecisionTreeRegressor()\n",
        "dtr_R2 = cross_val_score(dtr,X_train_scaled,y_train,cv=10).mean()\n",
        "dtr_neg_mse = cross_val_score(dtr,X_train_scaled,y_train,cv=10,scoring='neg_mean_squared_error').mean()"
      ],
      "metadata": {
        "id": "2udCdPCBa0Yn"
      },
      "execution_count": null,
      "outputs": []
    },
    {
      "cell_type": "code",
      "source": [
        "models[\"Desicion Tree Regressor\"]=[]\n",
        "models[\"Desicion Tree Regressor\"].append(dtr_R2)\n",
        "models[\"Desicion Tree Regressor\"].append(dtr_neg_mse)"
      ],
      "metadata": {
        "id": "_1PG7C1mgbne"
      },
      "execution_count": null,
      "outputs": []
    },
    {
      "cell_type": "code",
      "source": [
        "#Random Forest Regression modelini oluştur ve Cross Validation R2 ve Negative MSE skorlarını ekle\n",
        "rfr = RandomForestRegressor()\n",
        "rf_R2 = cross_val_score(rfr,X_train_scaled,y_train,cv=10).mean()\n",
        "rf_neg_mse = cross_val_score(rfr,X_train_scaled,y_train,cv=10,scoring='neg_mean_squared_error').mean()"
      ],
      "metadata": {
        "id": "7WEqQaUvaf3W"
      },
      "execution_count": null,
      "outputs": []
    },
    {
      "cell_type": "code",
      "source": [
        "models[\"Random Forest Regressor\"]=[]\n",
        "models[\"Random Forest Regressor\"].append(rf_R2)\n",
        "models[\"Random Forest Regressor\"].append(rf_neg_mse)"
      ],
      "metadata": {
        "id": "2_UzrUKDdQOi"
      },
      "execution_count": null,
      "outputs": []
    },
    {
      "cell_type": "code",
      "source": [
        "models"
      ],
      "metadata": {
        "colab": {
          "base_uri": "https://localhost:8080/"
        },
        "id": "1olLN_yEhynn",
        "outputId": "487cb4f3-63c7-4cf1-d1f7-7ab6e2086484"
      },
      "execution_count": null,
      "outputs": [
        {
          "output_type": "execute_result",
          "data": {
            "text/plain": [
              "{'Linear Regression': [0.7227220469387354, -37606393.17851404],\n",
              " 'Support Vector Regressor': [-0.10074750814883408, -150215406.24455917],\n",
              " 'Desicion Tree Regressor': [0.6455508062442012, -47895187.71166016],\n",
              " 'Random Forest Regressor': [0.8172586729656661, -25015510.464110408]}"
            ]
          },
          "metadata": {},
          "execution_count": 74
        }
      ]
    },
    {
      "cell_type": "code",
      "source": [
        "#Puanları barchart ile gözlemle\n",
        "X = models.keys()\n",
        "R2_Scores = [x[0] for x in list(models.values())]\n",
        "Neg_Mean_Scores = [x[1] for x in list(models.values())]\n",
        "\n",
        "\n",
        "fig, ax = plt.subplots(2,1,figsize=(5,7),squeeze=False,sharex=True)\n",
        "plt.title(\"Scores of Models\")\n",
        "ax[0,0].bar(X,R2_Scores, 0.4 ,color=\"r\", alpha=0.5)\n",
        "ax[1,0].bar(X,Neg_Mean_Scores,0.4  , alpha=0.5)\n",
        "\n",
        "ax[0,0].set_title('R2 Scores of Models')\n",
        "ax[1,0].set_title('Negative MSE Scores of Models')\n",
        "\n",
        "plt.xticks(rotation=90)\n",
        "fig.tight_layout()\n",
        "plt.show()"
      ],
      "metadata": {
        "colab": {
          "base_uri": "https://localhost:8080/",
          "height": 513
        },
        "id": "G2IZvErji9Cu",
        "outputId": "3b0a0881-5cc0-4f57-dc24-c4737bc4f302"
      },
      "execution_count": null,
      "outputs": [
        {
          "output_type": "display_data",
          "data": {
            "text/plain": [
              "<Figure size 360x504 with 2 Axes>"
            ],
            "image/png": "[encoded data removed]"
          },
          "metadata": {
            "needs_background": "light"
          }
        }
      ]
    },
    {
      "cell_type": "markdown",
      "source": [
        "Ortalama çapraz doğrulama puanlarına göre, **RandomForestRegressor** maksimum R2 puanı ve maksimum negatif MSE puanı ile en iyi performans gösteren modeldir.\n",
        "\n",
        "**Support Vector Regrossor**, minimum R2 (negatif) ve ayrıca minimum negatif MSE puan ile en kötü modeldir."
      ],
      "metadata": {
        "id": "Jv_bmgIPcghv"
      }
    },
    {
      "cell_type": "markdown",
      "source": [
        "## 6- Hiper-parametre Optimizasyonu"
      ],
      "metadata": {
        "id": "tyxJlA1c7v48"
      }
    },
    {
      "cell_type": "markdown",
      "source": [
        "Bir önceki bölümde K-Fold Cross Validation ile Random Forest Regressor en iyi performans veren model olarak seçildi. Bu model default parametrelerle oluşturulmuştu.\n",
        "\n",
        "Bu bölümde Random Forest Regressor modelinin performansını artttırmak için en iyi model parametreleri Grid Search ile aranacaktır."
      ],
      "metadata": {
        "id": "A5MwMkfK8D-i"
      }
    },
    {
      "cell_type": "code",
      "source": [
        "rfr_base = RandomForestRegressor()\n",
        "\n"
      ],
      "metadata": {
        "id": "YR-vgi9S7yE8"
      },
      "execution_count": null,
      "outputs": []
    },
    {
      "cell_type": "code",
      "source": [
        "params = {\n",
        "    \"n_estimators\" : [10,100,200,500],\n",
        "    \"max_depth\" : [2,10,100],\n",
        "    \"ccp_alpha\" :[0,0.1],  \n",
        "}"
      ],
      "metadata": {
        "id": "k9bGw2ll8z8I"
      },
      "execution_count": null,
      "outputs": []
    },
    {
      "cell_type": "code",
      "source": [
        "rfr_tuned = GridSearchCV(rfr_base, params)"
      ],
      "metadata": {
        "id": "0abFiiEl_GoU"
      },
      "execution_count": null,
      "outputs": []
    },
    {
      "cell_type": "code",
      "source": [
        "rfr_tuned.fit(X_train_scaled,y_train)"
      ],
      "metadata": {
        "colab": {
          "base_uri": "https://localhost:8080/"
        },
        "id": "nwWxtpOQ_iH_",
        "outputId": "a080ace4-e2b7-4f7c-9324-49289f361f45"
      },
      "execution_count": null,
      "outputs": [
        {
          "output_type": "execute_result",
          "data": {
            "text/plain": [
              "GridSearchCV(estimator=RandomForestRegressor(),\n",
              "             param_grid={'ccp_alpha': [0, 0.1], 'max_depth': [2, 10, 100],\n",
              "                         'n_estimators': [10, 100, 200, 500]})"
            ]
          },
          "metadata": {},
          "execution_count": 79
        }
      ]
    },
    {
      "cell_type": "code",
      "source": [
        "rfr_tuned.best_params_"
      ],
      "metadata": {
        "colab": {
          "base_uri": "https://localhost:8080/"
        },
        "id": "AJIwjd_8WAwk",
        "outputId": "a23bbbd6-8772-4c43-edd5-c36783d3e767"
      },
      "execution_count": null,
      "outputs": [
        {
          "output_type": "execute_result",
          "data": {
            "text/plain": [
              "{'ccp_alpha': 0, 'max_depth': 10, 'n_estimators': 500}"
            ]
          },
          "metadata": {},
          "execution_count": 80
        }
      ]
    },
    {
      "cell_type": "code",
      "source": [
        "rfc_final = RandomForestRegressor(ccp_alpha= 0, max_depth= 10, n_estimators= 500)"
      ],
      "metadata": {
        "id": "krAr2aCKWlEb"
      },
      "execution_count": null,
      "outputs": []
    },
    {
      "cell_type": "code",
      "source": [
        "rfc_final.fit(X_train_scaled,y_train)"
      ],
      "metadata": {
        "colab": {
          "base_uri": "https://localhost:8080/"
        },
        "id": "KPPpK22SWvDK",
        "outputId": "11c19bfe-80c1-43de-9fb3-3e947a266572"
      },
      "execution_count": null,
      "outputs": [
        {
          "output_type": "execute_result",
          "data": {
            "text/plain": [
              "RandomForestRegressor(ccp_alpha=0, max_depth=10, n_estimators=500)"
            ]
          },
          "metadata": {},
          "execution_count": 82
        }
      ]
    },
    {
      "cell_type": "markdown",
      "source": [
        "## 7- Modeli Değerlendirme"
      ],
      "metadata": {
        "id": "vF-IuOOUWgsw"
      }
    },
    {
      "cell_type": "code",
      "source": [
        "from sklearn.metrics import r2_score"
      ],
      "metadata": {
        "id": "hxm46Z5MXANf"
      },
      "execution_count": null,
      "outputs": []
    },
    {
      "cell_type": "code",
      "source": [
        "y_pred = rfc_final.predict(X_test_scaled)"
      ],
      "metadata": {
        "id": "OTgubKc5XMXM"
      },
      "execution_count": null,
      "outputs": []
    },
    {
      "cell_type": "code",
      "source": [
        "print(\"R2 = \", r2_score(y_test,y_pred))"
      ],
      "metadata": {
        "colab": {
          "base_uri": "https://localhost:8080/"
        },
        "id": "s8YZDjicXRZj",
        "outputId": "dbbc2197-375b-4b37-cae6-e1eccfddd18c"
      },
      "execution_count": null,
      "outputs": [
        {
          "output_type": "stream",
          "name": "stdout",
          "text": [
            "R2 =  0.882777487831545\n"
          ]
        }
      ]
    },
    {
      "cell_type": "markdown",
      "source": [
        "R2 1 e ne kadar yakın olursa, model o kadar anlamlı süreç üretmiş demektir. 0.88 datanın modele uyum sağladığını belirtmektedir."
      ],
      "metadata": {
        "id": "rhzfUkh3YJTF"
      }
    },
    {
      "cell_type": "code",
      "source": [
        "from sklearn.metrics import mean_squared_error\n",
        "print(\"Root Mean Squared Error = \", np.sqrt(mean_squared_error(y_test,y_pred)))"
      ],
      "metadata": {
        "colab": {
          "base_uri": "https://localhost:8080/"
        },
        "id": "QwLvgcY1Xbpc",
        "outputId": "8ee5d689-1bfd-4763-9e1d-2cdf554ccabb"
      },
      "execution_count": null,
      "outputs": [
        {
          "output_type": "stream",
          "name": "stdout",
          "text": [
            "Root Mean Squared Error =  4641.157986223391\n"
          ]
        }
      ]
    },
    {
      "cell_type": "markdown",
      "source": [
        "Root mean squared error ise tahmin edilen ile gerçek değerlerin farkının karelerinin toplamının kara köküdür. Bu değer değerlendirmek için y değerlerinin aralığını da bilmemiz gerekir."
      ],
      "metadata": {
        "id": "lBYkC_5VYUHF"
      }
    },
    {
      "cell_type": "code",
      "source": [
        "y.describe()"
      ],
      "metadata": {
        "colab": {
          "base_uri": "https://localhost:8080/"
        },
        "id": "MlUE-p3NX1r-",
        "outputId": "50dabd9d-5e63-4a60-ba57-92d3871d4f91"
      },
      "execution_count": null,
      "outputs": [
        {
          "output_type": "execute_result",
          "data": {
            "text/plain": [
              "count     1337.000000\n",
              "mean     13279.121487\n",
              "std      12110.359656\n",
              "min       1121.873900\n",
              "25%       4746.344000\n",
              "50%       9386.161300\n",
              "75%      16657.717450\n",
              "max      63770.428010\n",
              "Name: charges, dtype: float64"
            ]
          },
          "metadata": {},
          "execution_count": 89
        }
      ]
    },
    {
      "cell_type": "code",
      "source": [
        "plt.title(\"Charges(y)\")\n",
        "sns.boxplot(y)\n",
        "plt.show()"
      ],
      "metadata": {
        "colab": {
          "base_uri": "https://localhost:8080/",
          "height": 350
        },
        "id": "mKzkrNx9Y2j-",
        "outputId": "2bd0b576-640d-4748-ee70-093e34ccbf50"
      },
      "execution_count": null,
      "outputs": [
        {
          "output_type": "stream",
          "name": "stderr",
          "text": [
            "/usr/local/lib/python3.7/dist-packages/seaborn/_decorators.py:43: FutureWarning: Pass the following variable as a keyword arg: x. From version 0.12, the only valid positional argument will be `data`, and passing other arguments without an explicit keyword will result in an error or misinterpretation.\n",
            "  FutureWarning\n"
          ]
        },
        {
          "output_type": "display_data",
          "data": {
            "text/plain": [
              "<Figure size 432x288 with 1 Axes>"
            ],
            "image/png": "[encoded data removed]"
          },
          "metadata": {
            "needs_background": "light"
          }
        }
      ]
    },
    {
      "cell_type": "markdown",
      "source": [
        "4636.9 Hata oranı yukarıdaki değerler için fena değildir, ortalama 13279, standart sapması 12110 olan yukarıdaki dağılım için kabul edilebilir bir hata olabilir. "
      ],
      "metadata": {
        "id": "sjDHLZHIYidH"
      }
    }
  ]
}